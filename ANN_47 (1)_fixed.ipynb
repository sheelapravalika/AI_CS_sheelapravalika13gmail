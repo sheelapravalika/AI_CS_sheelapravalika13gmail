{
 "cells": [
  {
   "cell_type": "code",
   "execution_count": null,
   "metadata": {
    "colab": {
     "base_uri": "https://localhost:8080/"
    },
    "id": "FfOZlZbC_0Y1",
    "outputId": "a23fc069-18b5-40ba-f06f-533e486fd3b5"
   },
   "outputs": [],
   "source": [
    "# STEP 1: Install required packages\n",
    "!pip install -U datasets huggingface_hub fsspec pandas scikit-learn matplotlib seaborn numpy tensorflow"
   ]
  },
  {
   "cell_type": "code",
   "execution_count": null,
   "metadata": {
    "id": "rIMvF5jtAlhh"
   },
   "outputs": [],
   "source": [
    "# STEP 2: Import Libraries\n",
    "from datasets import load_dataset\n",
    "import pandas as pd\n",
    "import numpy as np\n",
    "import matplotlib.pyplot as plt\n",
    "import seaborn as sns\n",
    "import warnings\n",
    "warnings.filterwarnings('ignore')\n",
    "\n",
    "from sklearn.model_selection import train_test_split\n",
    "from sklearn.preprocessing import StandardScaler, LabelEncoder\n",
    "from sklearn.metrics import accuracy_score, classification_report, confusion_matrix\n",
    "\n",
    "from tensorflow.keras.models import Sequential\n",
    "from tensorflow.keras.layers import Dense, Dropout\n",
    "from tensorflow.keras.callbacks import EarlyStopping"
   ]
  },
  {
   "cell_type": "code",
   "execution_count": null,
   "metadata": {
    "colab": {
     "base_uri": "https://localhost:8080/",
     "height": 1000,
     "referenced_widgets": [
      "671e15faa0e64a388d8c70ea0bfdb51c",
      "081ef92e1ac94c42ab7b0c5f7d659fbe",
      "7530dfd064214ce9b87d6399e77b1c89",
      "db2cf36765b1472da6046bc4311dcf7b",
      "a0809674751f456b89be964b5fa68759",
      "d005f9dfceac4469bc11be71f592f966",
      "d5b799957a9243ad89b3d68996fca640",
      "4d97681c21ad478c81fbc76d6a921e04",
      "84af21fbdcad43c599561903641e5abc",
      "92d4d90bf0b44f12b5ae71b4d693b2a6",
      "46efd0e491fd44f5be3d4bcb223f04c2",
      "2257c6e4e697468b89438b58c57b5d5b",
      "e36bb3a95681493c9ec6ab8c6aac61f8",
      "15a8bb7f461140d1ba4c07bd1140b6f0",
      "1277a3c34b6d4b95bb3ceb30525e1507",
      "b1848d3a95de42ca9186de6be3fcbea1",
      "6132abca10c542288d48a84e410d9084",
      "f43240a707a944638aaa510d7934bd5c",
      "162c28f912b149ea85cdb3c51938984f",
      "a49fe75bf97e4b9eabf701b4313ec3e6",
      "c2a430488122414dac42282766c798c0",
      "3811574d4f994dcf89d54ba3051f5585",
      "bac45c56dcda483ca02d591e4fa4fb48",
      "48425961ba9445158e2f8f7b6b503465",
      "f9e08669c23a4e84a09bbc5e6178fc81",
      "1a62baf13d7644c7af55116413a5b07d",
      "f4f5a159edec4dfb91e4f06dcedcd429",
      "5883b396948d40ecad2ef121c5d9150a",
      "d4fb4ca4a7994f4ca6458c65ecf77596",
      "321f0262d63f44b897f852525326d357",
      "a9205e3491cb454dbe33375c32d9aaa4",
      "deacb094fa88400cb92ada6bbfda43e7",
      "30158a0bc1cc485b96fd8a9054b88b97",
      "fed143db2fe4461baefd99cabb1531d0",
      "b50625f824294e99b9fca572f5f04cfb",
      "deb74289ab5b4773b1654a1619241871",
      "8064412fa40d4d50a8817533ded445ca",
      "7c2a3b64bdc84655bcf4064c13036941",
      "c5dbe96471b34179a024babc03be1094",
      "1b3cd0afb4cc49c1ad78c0bed6f6c27c",
      "b06d538958ca4a4692b4c547f67387d0",
      "209357511e5b4389a55134e5c84331d4",
      "dd48be13aa8249589207c7f533c900c2",
      "40d07265caf147b2b09bf4df6a876d4c",
      "467b5cf9c70a4502801f29ccf851aa63",
      "8bff0f6aa01e47f280eae31f610597f2",
      "1c08da1f7b7546d8bebdc970bfefd936",
      "ff4b7ebd270148ffb3b088d21b15e8a3",
      "2692a75f39894db9b2a2bdcfaf4a389c",
      "418d1f8135804f978219614cd50d5a5e",
      "ead5dd4412844d39b36fd39133c9990d",
      "487da11ddfe542b39911b637d1b6f7bd",
      "ecde4c9c8ae1470aa479eed07bce5d11",
      "e7ad873f87064adf956f640e1c4dc0bf",
      "62d182f0a7ad4d85baa613ec1dea3d8f",
      "b560bf0380fb48ff88d1d37fe353820d",
      "ebdcd688f8464d9aa64b862a7c4aa7ea",
      "82fe7abb84a4481d86d4ed568a3abe26",
      "30e74cc18ce340c298c3be3ed54a59fe",
      "47bbc15bbf4842469714f74e9cb6838c",
      "8af728fd5b8647ca929bbc3cd48d5746",
      "2852ef6b6a734961b9ca182aee7090db",
      "6b82a626d8d6415bb3c8247861a20a56",
      "29f2527deb9640b68760db6e0a51db41",
      "c1d1509238fd47a28c4b939effdaeacb",
      "6731036d900449449ec2d1a104b631c3"
     ]
    },
    "id": "nvg6ICoxA2er",
    "outputId": "680649e0-6566-4e62-fbd6-4b8f1816fdc6"
   },
   "outputs": [],
   "source": [
    "# STEP 3: Load CIC-IDS2017 Dataset (Binary)\n",
    "dataset = load_dataset(\"sonnh-tech1/cic-ids-2017\", \"binary\")\n",
    "df = dataset[\"train\"].to_pandas()\n",
    "\n",
    "print(df)"
   ]
  },
  {
   "cell_type": "code",
   "execution_count": null,
   "metadata": {
    "id": "WsKrnrFgBRvm"
   },
   "outputs": [],
   "source": [
    "# STEP 4: Preprocess Data\n",
    "le = LabelEncoder()\n",
    "df['Label'] = le.fit_transform(df['Label'])  # Benign=0, Threat=1\n",
    "\n",
    "X = df.drop(['Label', 'LabelMap'], axis=1)\n",
    "y = df['Label']\n",
    "\n",
    "X_numeric = X.select_dtypes(include=['int64', 'float64'])\n",
    "scaler = StandardScaler()\n",
    "X_scaled = scaler.fit_transform(X_numeric)"
   ]
  },
  {
   "cell_type": "code",
   "execution_count": null,
   "metadata": {
    "id": "C1IVIsHTBZiW"
   },
   "outputs": [],
   "source": [
    "# STEP 5: Train/Test Split\n",
    "X_train, X_test, y_train, y_test = train_test_split(X_scaled, y, test_size=0.3, random_state=42)"
   ]
  },
  {
   "cell_type": "code",
   "execution_count": null,
   "metadata": {
    "id": "j74xoXemBfan"
   },
   "outputs": [],
   "source": [
    "# STEP 6: Build the ANN Model\n",
    "model = Sequential()\n",
    "model.add(Dense(128, activation='relu', input_shape=(X_train.shape[1],)))\n",
    "model.add(Dropout(0.3))\n",
    "model.add(Dense(64, activation='relu'))\n",
    "model.add(Dropout(0.3))\n",
    "model.add(Dense(1, activation='sigmoid'))  # Binary classification\n",
    "\n",
    "model.compile(optimizer='adam', loss='binary_crossentropy', metrics=['accuracy'])"
   ]
  },
  {
   "cell_type": "code",
   "execution_count": null,
   "metadata": {
    "colab": {
     "background_save": true,
     "base_uri": "https://localhost:8080/"
    },
    "id": "ozKwnvjjBmjI",
    "outputId": "7d6c1f04-1efd-437f-827f-79c4420dbdc9"
   },
   "outputs": [],
   "source": [
    "# STEP 7: Train the Model\n",
    "early_stop = EarlyStopping(monitor='val_loss', patience=3, restore_best_weights=True)\n",
    "\n",
    "history = model.fit(X_train, y_train,\n",
    "                    validation_split=0.2,\n",
    "                    epochs=10,\n",
    "                    batch_size=256,\n",
    "                    callbacks=[early_stop],\n",
    "                    verbose=1)"
   ]
  },
  {
   "cell_type": "code",
   "execution_count": null,
   "metadata": {
    "id": "ZP5vZJ-3C9K1"
   },
   "outputs": [],
   "source": [
    "# STEP 8: Evaluate the Model\n",
    "y_pred_prob = model.predict(X_test)\n",
    "y_pred = (y_pred_prob > 0.5).astype(\"int32\").flatten()\n",
    "\n",
    "# Accuracy\n",
    "print(\"✅ Accuracy:\", accuracy_score(y_test, y_pred))\n",
    "\n",
    "# Classification Report\n",
    "print(\"\\n📄 Classification Report:\\n\", classification_report(y_test, y_pred))\n",
    "\n",
    "# Confusion Matrix\n",
    "conf_mat = confusion_matrix(y_test, y_pred)\n",
    "sns.heatmap(conf_mat, annot=True, fmt='d', cmap='coolwarm')\n",
    "plt.xlabel('Predicted')\n",
    "plt.ylabel('Actual')\n",
    "plt.title('Confusion Matrix - ANN')\n",
    "plt.show()"
   ]
  },
  {
   "cell_type": "code",
   "execution_count": null,
   "metadata": {
    "id": "zNGsjJYsqeQT"
   },
   "outputs": [],
   "source": [
    "# ✅ STEP 11: Plot Training History\n",
    "plt.figure(figsize=(12, 5))\n",
    "\n",
    "plt.subplot(1, 2, 1)\n",
    "plt.plot(history.history['accuracy'], label='Train Accuracy')\n",
    "plt.plot(history.history['val_accuracy'], label='Val Accuracy')\n",
    "plt.title('ANN Model Accuracy')\n",
    "plt.xlabel('Epoch')\n",
    "plt.ylabel('Accuracy')\n",
    "plt.legend()\n",
    "\n",
    "plt.subplot(1, 2, 2)\n",
    "plt.plot(history.history['loss'], label='Train Loss')\n",
    "plt.plot(history.history['val_loss'], label='Val Loss')\n",
    "plt.title('ANN Model Loss')\n",
    "plt.xlabel('Epoch')\n",
    "plt.ylabel('Loss')\n",
    "plt.legend()\n",
    "\n",
    "plt.tight_layout()\n",
    "plt.show()"
   ]
  },
  {
   "cell_type": "code",
   "execution_count": null,
   "metadata": {
    "colab": {
     "base_uri": "https://localhost:8080/"
    },
    "id": "dFvdVuFHwa47",
    "outputId": "553b607a-8b12-42b2-e0b0-ebc5e4eb7cd5"
   },
   "outputs": [],
   "source": [
    "import nbformat\n",
    "import os\n",
    "\n",
    "# Get the path of the current notebook\n",
    "notebook_path = os.path.abspath(\"__main__\")\n",
    "\n",
    "# Load and clean the notebook\n",
    "try:\n",
    "    with open(notebook_path, \"r\", encoding=\"utf-8\") as f:\n",
    "        nb = nbformat.read(f, as_version=4)\n",
    "\n",
    "    # Remove problematic metadata\n",
    "    for cell in nb.cells:\n",
    "        if 'metadata' in cell and 'widgets' in cell['metadata']:\n",
    "            del cell['metadata']['widgets']\n",
    "\n",
    "    # Save cleaned notebook (you might want to save it with a different name)\n",
    "    cleaned_notebook_path = \"ANN_cleaned.ipynb\"\n",
    "    with open(cleaned_notebook_path, \"w\", encoding=\"utf-8\") as f:\n",
    "        nbformat.write(nb, f)\n",
    "    print(f\"Cleaned notebook saved to {cleaned_notebook_path}\")\n",
    "\n",
    "except FileNotFoundError:\n",
    "    print(f\"Error: The notebook file '{notebook_path}' was not found.\")\n",
    "except Exception as e:\n",
    "    print(f\"An error occurred: {e}\")"
   ]
  }
 ],
 "metadata": {
  "colab": {
   "provenance": []
  },
  "kernelspec": {
   "display_name": "Python 3",
   "name": "python3"
  },
  "language_info": {
   "name": "python"
  }
 },
 "nbformat": 4,
 "nbformat_minor": 0
}
