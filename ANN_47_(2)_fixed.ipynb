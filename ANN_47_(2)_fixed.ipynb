{
  "cells": [
    {
      "cell_type": "markdown",
      "metadata": {
        "id": "view-in-github",
        "colab_type": "text"
      },
      "source": [
        "<a href=\"https://colab.research.google.com/github/sheelapravalika/AI_CS_sheelapravalika13gmail/blob/main/ANN_47_(2)_fixed.ipynb\" target=\"_parent\"><img src=\"https://colab.research.google.com/assets/colab-badge.svg\" alt=\"Open In Colab\"/></a>"
      ]
    },
    {
      "cell_type": "markdown",
      "source": [
        "[![Open In Colab](https://colab.research.google.com/assets/colab-badge.svg)](https://colab.research.google.com/github/sheelapravalika/AI_CS_mokshasaireddy005/blob/main/ANN_47(2).ipynb)\n"
      ],
      "metadata": {
        "id": "VsyYHRJCjsPV"
      }
    },
    {
      "cell_type": "code",
      "execution_count": null,
      "metadata": {
        "colab": {
          "base_uri": "https://localhost:8080/"
        },
        "id": "FfOZlZbC_0Y1",
        "outputId": "a23fc069-18b5-40ba-f06f-533e486fd3b5"
      },
      "outputs": [
        {
          "name": "stdout",
          "output_type": "stream",
          "text": [
            "Requirement already satisfied: datasets in /usr/local/lib/python3.11/dist-packages (4.0.0)\n",
            "Requirement already satisfied: huggingface_hub in /usr/local/lib/python3.11/dist-packages (0.34.1)\n",
            "Requirement already satisfied: fsspec in /usr/local/lib/python3.11/dist-packages (2025.3.0)\n",
            "Collecting fsspec\n",
            "  Using cached fsspec-2025.7.0-py3-none-any.whl.metadata (12 kB)\n",
            "Requirement already satisfied: pandas in /usr/local/lib/python3.11/dist-packages (2.3.1)\n",
            "Requirement already satisfied: scikit-learn in /usr/local/lib/python3.11/dist-packages (1.7.1)\n",
            "Requirement already satisfied: matplotlib in /usr/local/lib/python3.11/dist-packages (3.10.3)\n",
            "Requirement already satisfied: seaborn in /usr/local/lib/python3.11/dist-packages (0.13.2)\n",
            "Requirement already satisfied: numpy in /usr/local/lib/python3.11/dist-packages (2.1.3)\n",
            "Collecting numpy\n",
            "  Using cached numpy-2.3.2-cp311-cp311-manylinux_2_27_x86_64.manylinux_2_28_x86_64.whl.metadata (62 kB)\n",
            "Requirement already satisfied: tensorflow in /usr/local/lib/python3.11/dist-packages (2.19.0)\n",
            "Requirement already satisfied: filelock in /usr/local/lib/python3.11/dist-packages (from datasets) (3.18.0)\n",
            "Requirement already satisfied: pyarrow>=15.0.0 in /usr/local/lib/python3.11/dist-packages (from datasets) (18.1.0)\n",
            "Requirement already satisfied: dill<0.3.9,>=0.3.0 in /usr/local/lib/python3.11/dist-packages (from datasets) (0.3.8)\n",
            "Requirement already satisfied: requests>=2.32.2 in /usr/local/lib/python3.11/dist-packages (from datasets) (2.32.3)\n",
            "Requirement already satisfied: tqdm>=4.66.3 in /usr/local/lib/python3.11/dist-packages (from datasets) (4.67.1)\n",
            "Requirement already satisfied: xxhash in /usr/local/lib/python3.11/dist-packages (from datasets) (3.5.0)\n",
            "Requirement already satisfied: multiprocess<0.70.17 in /usr/local/lib/python3.11/dist-packages (from datasets) (0.70.16)\n",
            "Requirement already satisfied: packaging in /usr/local/lib/python3.11/dist-packages (from datasets) (25.0)\n",
            "Requirement already satisfied: pyyaml>=5.1 in /usr/local/lib/python3.11/dist-packages (from datasets) (6.0.2)\n",
            "Requirement already satisfied: typing-extensions>=3.7.4.3 in /usr/local/lib/python3.11/dist-packages (from huggingface_hub) (4.14.1)\n",
            "Requirement already satisfied: hf-xet<2.0.0,>=1.1.3 in /usr/local/lib/python3.11/dist-packages (from huggingface_hub) (1.1.5)\n",
            "Requirement already satisfied: python-dateutil>=2.8.2 in /usr/local/lib/python3.11/dist-packages (from pandas) (2.9.0.post0)\n",
            "Requirement already satisfied: pytz>=2020.1 in /usr/local/lib/python3.11/dist-packages (from pandas) (2025.2)\n",
            "Requirement already satisfied: tzdata>=2022.7 in /usr/local/lib/python3.11/dist-packages (from pandas) (2025.2)\n",
            "Requirement already satisfied: scipy>=1.8.0 in /usr/local/lib/python3.11/dist-packages (from scikit-learn) (1.16.0)\n",
            "Requirement already satisfied: joblib>=1.2.0 in /usr/local/lib/python3.11/dist-packages (from scikit-learn) (1.5.1)\n",
            "Requirement already satisfied: threadpoolctl>=3.1.0 in /usr/local/lib/python3.11/dist-packages (from scikit-learn) (3.6.0)\n",
            "Requirement already satisfied: contourpy>=1.0.1 in /usr/local/lib/python3.11/dist-packages (from matplotlib) (1.3.2)\n",
            "Requirement already satisfied: cycler>=0.10 in /usr/local/lib/python3.11/dist-packages (from matplotlib) (0.12.1)\n",
            "Requirement already satisfied: fonttools>=4.22.0 in /usr/local/lib/python3.11/dist-packages (from matplotlib) (4.59.0)\n",
            "Requirement already satisfied: kiwisolver>=1.3.1 in /usr/local/lib/python3.11/dist-packages (from matplotlib) (1.4.8)\n",
            "Requirement already satisfied: pillow>=8 in /usr/local/lib/python3.11/dist-packages (from matplotlib) (11.3.0)\n",
            "Requirement already satisfied: pyparsing>=2.3.1 in /usr/local/lib/python3.11/dist-packages (from matplotlib) (3.2.3)\n",
            "Requirement already satisfied: absl-py>=1.0.0 in /usr/local/lib/python3.11/dist-packages (from tensorflow) (1.4.0)\n",
            "Requirement already satisfied: astunparse>=1.6.0 in /usr/local/lib/python3.11/dist-packages (from tensorflow) (1.6.3)\n",
            "Requirement already satisfied: flatbuffers>=24.3.25 in /usr/local/lib/python3.11/dist-packages (from tensorflow) (25.2.10)\n",
            "Requirement already satisfied: gast!=0.5.0,!=0.5.1,!=0.5.2,>=0.2.1 in /usr/local/lib/python3.11/dist-packages (from tensorflow) (0.6.0)\n",
            "Requirement already satisfied: google-pasta>=0.1.1 in /usr/local/lib/python3.11/dist-packages (from tensorflow) (0.2.0)\n",
            "Requirement already satisfied: libclang>=13.0.0 in /usr/local/lib/python3.11/dist-packages (from tensorflow) (18.1.1)\n",
            "Requirement already satisfied: opt-einsum>=2.3.2 in /usr/local/lib/python3.11/dist-packages (from tensorflow) (3.4.0)\n",
            "Requirement already satisfied: protobuf!=4.21.0,!=4.21.1,!=4.21.2,!=4.21.3,!=4.21.4,!=4.21.5,<6.0.0dev,>=3.20.3 in /usr/local/lib/python3.11/dist-packages (from tensorflow) (5.29.5)\n",
            "Requirement already satisfied: setuptools in /usr/local/lib/python3.11/dist-packages (from tensorflow) (75.2.0)\n",
            "Requirement already satisfied: six>=1.12.0 in /usr/local/lib/python3.11/dist-packages (from tensorflow) (1.17.0)\n",
            "Requirement already satisfied: termcolor>=1.1.0 in /usr/local/lib/python3.11/dist-packages (from tensorflow) (3.1.0)\n",
            "Requirement already satisfied: wrapt>=1.11.0 in /usr/local/lib/python3.11/dist-packages (from tensorflow) (1.17.2)\n",
            "Requirement already satisfied: grpcio<2.0,>=1.24.3 in /usr/local/lib/python3.11/dist-packages (from tensorflow) (1.73.1)\n",
            "Requirement already satisfied: tensorboard~=2.19.0 in /usr/local/lib/python3.11/dist-packages (from tensorflow) (2.19.0)\n",
            "Requirement already satisfied: keras>=3.5.0 in /usr/local/lib/python3.11/dist-packages (from tensorflow) (3.8.0)\n",
            "Requirement already satisfied: h5py>=3.11.0 in /usr/local/lib/python3.11/dist-packages (from tensorflow) (3.14.0)\n",
            "Requirement already satisfied: ml-dtypes<1.0.0,>=0.5.1 in /usr/local/lib/python3.11/dist-packages (from tensorflow) (0.5.1)\n",
            "Requirement already satisfied: tensorflow-io-gcs-filesystem>=0.23.1 in /usr/local/lib/python3.11/dist-packages (from tensorflow) (0.37.1)\n",
            "Requirement already satisfied: wheel<1.0,>=0.23.0 in /usr/local/lib/python3.11/dist-packages (from astunparse>=1.6.0->tensorflow) (0.45.1)\n",
            "Requirement already satisfied: aiohttp!=4.0.0a0,!=4.0.0a1 in /usr/local/lib/python3.11/dist-packages (from fsspec[http]<=2025.3.0,>=2023.1.0->datasets) (3.12.14)\n",
            "Requirement already satisfied: rich in /usr/local/lib/python3.11/dist-packages (from keras>=3.5.0->tensorflow) (13.9.4)\n",
            "Requirement already satisfied: namex in /usr/local/lib/python3.11/dist-packages (from keras>=3.5.0->tensorflow) (0.1.0)\n",
            "Requirement already satisfied: optree in /usr/local/lib/python3.11/dist-packages (from keras>=3.5.0->tensorflow) (0.16.0)\n",
            "Requirement already satisfied: charset-normalizer<4,>=2 in /usr/local/lib/python3.11/dist-packages (from requests>=2.32.2->datasets) (3.4.2)\n",
            "Requirement already satisfied: idna<4,>=2.5 in /usr/local/lib/python3.11/dist-packages (from requests>=2.32.2->datasets) (3.10)\n",
            "Requirement already satisfied: urllib3<3,>=1.21.1 in /usr/local/lib/python3.11/dist-packages (from requests>=2.32.2->datasets) (2.5.0)\n",
            "Requirement already satisfied: certifi>=2017.4.17 in /usr/local/lib/python3.11/dist-packages (from requests>=2.32.2->datasets) (2025.7.14)\n",
            "Requirement already satisfied: markdown>=2.6.8 in /usr/local/lib/python3.11/dist-packages (from tensorboard~=2.19.0->tensorflow) (3.8.2)\n",
            "Requirement already satisfied: tensorboard-data-server<0.8.0,>=0.7.0 in /usr/local/lib/python3.11/dist-packages (from tensorboard~=2.19.0->tensorflow) (0.7.2)\n",
            "Requirement already satisfied: werkzeug>=1.0.1 in /usr/local/lib/python3.11/dist-packages (from tensorboard~=2.19.0->tensorflow) (3.1.3)\n",
            "Requirement already satisfied: aiohappyeyeballs>=2.5.0 in /usr/local/lib/python3.11/dist-packages (from aiohttp!=4.0.0a0,!=4.0.0a1->fsspec[http]<=2025.3.0,>=2023.1.0->datasets) (2.6.1)\n",
            "Requirement already satisfied: aiosignal>=1.4.0 in /usr/local/lib/python3.11/dist-packages (from aiohttp!=4.0.0a0,!=4.0.0a1->fsspec[http]<=2025.3.0,>=2023.1.0->datasets) (1.4.0)\n",
            "Requirement already satisfied: attrs>=17.3.0 in /usr/local/lib/python3.11/dist-packages (from aiohttp!=4.0.0a0,!=4.0.0a1->fsspec[http]<=2025.3.0,>=2023.1.0->datasets) (25.3.0)\n",
            "Requirement already satisfied: frozenlist>=1.1.1 in /usr/local/lib/python3.11/dist-packages (from aiohttp!=4.0.0a0,!=4.0.0a1->fsspec[http]<=2025.3.0,>=2023.1.0->datasets) (1.7.0)\n",
            "Requirement already satisfied: multidict<7.0,>=4.5 in /usr/local/lib/python3.11/dist-packages (from aiohttp!=4.0.0a0,!=4.0.0a1->fsspec[http]<=2025.3.0,>=2023.1.0->datasets) (6.6.3)\n",
            "Requirement already satisfied: propcache>=0.2.0 in /usr/local/lib/python3.11/dist-packages (from aiohttp!=4.0.0a0,!=4.0.0a1->fsspec[http]<=2025.3.0,>=2023.1.0->datasets) (0.3.2)\n",
            "Requirement already satisfied: yarl<2.0,>=1.17.0 in /usr/local/lib/python3.11/dist-packages (from aiohttp!=4.0.0a0,!=4.0.0a1->fsspec[http]<=2025.3.0,>=2023.1.0->datasets) (1.20.1)\n",
            "Requirement already satisfied: MarkupSafe>=2.1.1 in /usr/local/lib/python3.11/dist-packages (from werkzeug>=1.0.1->tensorboard~=2.19.0->tensorflow) (3.0.2)\n",
            "Requirement already satisfied: markdown-it-py>=2.2.0 in /usr/local/lib/python3.11/dist-packages (from rich->keras>=3.5.0->tensorflow) (3.0.0)\n",
            "Requirement already satisfied: pygments<3.0.0,>=2.13.0 in /usr/local/lib/python3.11/dist-packages (from rich->keras>=3.5.0->tensorflow) (2.19.2)\n",
            "Requirement already satisfied: mdurl~=0.1 in /usr/local/lib/python3.11/dist-packages (from markdown-it-py>=2.2.0->rich->keras>=3.5.0->tensorflow) (0.1.2)\n"
          ]
        }
      ],
      "source": [
        "# STEP 1: Install required packages\n",
        "!pip install -U datasets huggingface_hub fsspec pandas scikit-learn matplotlib seaborn numpy tensorflow"
      ]
    },
    {
      "cell_type": "code",
      "execution_count": null,
      "metadata": {
        "id": "rIMvF5jtAlhh"
      },
      "outputs": [],
      "source": [
        "# STEP 2: Import Libraries\n",
        "from datasets import load_dataset\n",
        "import pandas as pd\n",
        "import numpy as np\n",
        "import matplotlib.pyplot as plt\n",
        "import seaborn as sns\n",
        "import warnings\n",
        "warnings.filterwarnings('ignore')\n",
        "\n",
        "from sklearn.model_selection import train_test_split\n",
        "from sklearn.preprocessing import StandardScaler, LabelEncoder\n",
        "from sklearn.metrics import accuracy_score, classification_report, confusion_matrix\n",
        "\n",
        "from tensorflow.keras.models import Sequential\n",
        "from tensorflow.keras.layers import Dense, Dropout\n",
        "from tensorflow.keras.callbacks import EarlyStopping"
      ]
    },
    {
      "cell_type": "code",
      "execution_count": null,
      "metadata": {
        "colab": {
          "base_uri": "https://localhost:8080/",
          "height": 1000,
          "referenced_widgets": [
            "671e15faa0e64a388d8c70ea0bfdb51c",
            "081ef92e1ac94c42ab7b0c5f7d659fbe",
            "7530dfd064214ce9b87d6399e77b1c89",
            "db2cf36765b1472da6046bc4311dcf7b",
            "a0809674751f456b89be964b5fa68759",
            "d005f9dfceac4469bc11be71f592f966",
            "d5b799957a9243ad89b3d68996fca640",
            "4d97681c21ad478c81fbc76d6a921e04",
            "84af21fbdcad43c599561903641e5abc",
            "92d4d90bf0b44f12b5ae71b4d693b2a6",
            "46efd0e491fd44f5be3d4bcb223f04c2",
            "2257c6e4e697468b89438b58c57b5d5b",
            "e36bb3a95681493c9ec6ab8c6aac61f8",
            "15a8bb7f461140d1ba4c07bd1140b6f0",
            "1277a3c34b6d4b95bb3ceb30525e1507",
            "b1848d3a95de42ca9186de6be3fcbea1",
            "6132abca10c542288d48a84e410d9084",
            "f43240a707a944638aaa510d7934bd5c",
            "162c28f912b149ea85cdb3c51938984f",
            "a49fe75bf97e4b9eabf701b4313ec3e6",
            "c2a430488122414dac42282766c798c0",
            "3811574d4f994dcf89d54ba3051f5585",
            "bac45c56dcda483ca02d591e4fa4fb48",
            "48425961ba9445158e2f8f7b6b503465",
            "f9e08669c23a4e84a09bbc5e6178fc81",
            "1a62baf13d7644c7af55116413a5b07d",
            "f4f5a159edec4dfb91e4f06dcedcd429",
            "5883b396948d40ecad2ef121c5d9150a",
            "d4fb4ca4a7994f4ca6458c65ecf77596",
            "321f0262d63f44b897f852525326d357",
            "a9205e3491cb454dbe33375c32d9aaa4",
            "deacb094fa88400cb92ada6bbfda43e7",
            "30158a0bc1cc485b96fd8a9054b88b97",
            "fed143db2fe4461baefd99cabb1531d0",
            "b50625f824294e99b9fca572f5f04cfb",
            "deb74289ab5b4773b1654a1619241871",
            "8064412fa40d4d50a8817533ded445ca",
            "7c2a3b64bdc84655bcf4064c13036941",
            "c5dbe96471b34179a024babc03be1094",
            "1b3cd0afb4cc49c1ad78c0bed6f6c27c",
            "b06d538958ca4a4692b4c547f67387d0",
            "209357511e5b4389a55134e5c84331d4",
            "dd48be13aa8249589207c7f533c900c2",
            "40d07265caf147b2b09bf4df6a876d4c",
            "467b5cf9c70a4502801f29ccf851aa63",
            "8bff0f6aa01e47f280eae31f610597f2",
            "1c08da1f7b7546d8bebdc970bfefd936",
            "ff4b7ebd270148ffb3b088d21b15e8a3",
            "2692a75f39894db9b2a2bdcfaf4a389c",
            "418d1f8135804f978219614cd50d5a5e",
            "ead5dd4412844d39b36fd39133c9990d",
            "487da11ddfe542b39911b637d1b6f7bd",
            "ecde4c9c8ae1470aa479eed07bce5d11",
            "e7ad873f87064adf956f640e1c4dc0bf",
            "62d182f0a7ad4d85baa613ec1dea3d8f",
            "b560bf0380fb48ff88d1d37fe353820d",
            "ebdcd688f8464d9aa64b862a7c4aa7ea",
            "82fe7abb84a4481d86d4ed568a3abe26",
            "30e74cc18ce340c298c3be3ed54a59fe",
            "47bbc15bbf4842469714f74e9cb6838c",
            "8af728fd5b8647ca929bbc3cd48d5746",
            "2852ef6b6a734961b9ca182aee7090db",
            "6b82a626d8d6415bb3c8247861a20a56",
            "29f2527deb9640b68760db6e0a51db41",
            "c1d1509238fd47a28c4b939effdaeacb",
            "6731036d900449449ec2d1a104b631c3"
          ]
        },
        "id": "nvg6ICoxA2er",
        "outputId": "680649e0-6566-4e62-fbd6-4b8f1816fdc6"
      },
      "outputs": [
        {
          "data": {
            "application/vnd.jupyter.widget-view+json": {
              "model_id": "671e15faa0e64a388d8c70ea0bfdb51c",
              "version_major": 2,
              "version_minor": 0
            },
            "text/plain": [
              "README.md: 0.00B [00:00, ?B/s]"
            ]
          },
          "metadata": {},
          "output_type": "display_data"
        },
        {
          "data": {
            "application/vnd.jupyter.widget-view+json": {
              "model_id": "2257c6e4e697468b89438b58c57b5d5b",
              "version_major": 2,
              "version_minor": 0
            },
            "text/plain": [
              "train-00000-of-00004.parquet:   0%|          | 0.00/92.8M [00:00<?, ?B/s]"
            ]
          },
          "metadata": {},
          "output_type": "display_data"
        },
        {
          "data": {
            "application/vnd.jupyter.widget-view+json": {
              "model_id": "bac45c56dcda483ca02d591e4fa4fb48",
              "version_major": 2,
              "version_minor": 0
            },
            "text/plain": [
              "train-00001-of-00004.parquet:   0%|          | 0.00/107M [00:00<?, ?B/s]"
            ]
          },
          "metadata": {},
          "output_type": "display_data"
        },
        {
          "data": {
            "application/vnd.jupyter.widget-view+json": {
              "model_id": "fed143db2fe4461baefd99cabb1531d0",
              "version_major": 2,
              "version_minor": 0
            },
            "text/plain": [
              "train-00002-of-00004.parquet:   0%|          | 0.00/108M [00:00<?, ?B/s]"
            ]
          },
          "metadata": {},
          "output_type": "display_data"
        },
        {
          "data": {
            "application/vnd.jupyter.widget-view+json": {
              "model_id": "467b5cf9c70a4502801f29ccf851aa63",
              "version_major": 2,
              "version_minor": 0
            },
            "text/plain": [
              "train-00003-of-00004.parquet:   0%|          | 0.00/107M [00:00<?, ?B/s]"
            ]
          },
          "metadata": {},
          "output_type": "display_data"
        },
        {
          "data": {
            "application/vnd.jupyter.widget-view+json": {
              "model_id": "b560bf0380fb48ff88d1d37fe353820d",
              "version_major": 2,
              "version_minor": 0
            },
            "text/plain": [
              "Generating train split:   0%|          | 0/2522362 [00:00<?, ? examples/s]"
            ]
          },
          "metadata": {},
          "output_type": "display_data"
        },
        {
          "name": "stdout",
          "output_type": "stream",
          "text": [
            "         DestinationPort  FlowDuration  TotalFwdPackets  TotalBackwardPackets  \\\n",
            "0                  54865             3                2                     0   \n",
            "1                  55054           109                1                     1   \n",
            "2                  55055            52                1                     1   \n",
            "3                  46236            34                1                     1   \n",
            "4                  54863             3                2                     0   \n",
            "...                  ...           ...              ...                   ...   \n",
            "2522357               53         32215                4                     2   \n",
            "2522358               53           324                2                     2   \n",
            "2522359            58030            82                2                     1   \n",
            "2522360               53       1048635                6                     2   \n",
            "2522361               53         94939                4                     2   \n",
            "\n",
            "         TotalLengthofFwdPackets  TotalLengthofBwdPackets  FwdPacketLengthMax  \\\n",
            "0                             12                        0                   6   \n",
            "1                              6                        6                   6   \n",
            "2                              6                        6                   6   \n",
            "3                              6                        6                   6   \n",
            "4                             12                        0                   6   \n",
            "...                          ...                      ...                 ...   \n",
            "2522357                      112                      152                  28   \n",
            "2522358                       84                      362                  42   \n",
            "2522359                       31                        6                  31   \n",
            "2522360                      192                      256                  32   \n",
            "2522361                      188                      226                  47   \n",
            "\n",
            "         FwdPacketLengthMin  FwdPacketLengthMean  FwdPacketLengthStd  ...  \\\n",
            "0                         6                  6.0             0.00000  ...   \n",
            "1                         6                  6.0             0.00000  ...   \n",
            "2                         6                  6.0             0.00000  ...   \n",
            "3                         6                  6.0             0.00000  ...   \n",
            "4                         6                  6.0             0.00000  ...   \n",
            "...                     ...                  ...                 ...  ...   \n",
            "2522357                  28                 28.0             0.00000  ...   \n",
            "2522358                  42                 42.0             0.00000  ...   \n",
            "2522359                   0                 15.5            21.92031  ...   \n",
            "2522360                  32                 32.0             0.00000  ...   \n",
            "2522361                  47                 47.0             0.00000  ...   \n",
            "\n",
            "         ActiveMean  ActiveStd  ActiveMax  ActiveMin  IdleMean  IdleStd  \\\n",
            "0               0.0        0.0          0          0       0.0      0.0   \n",
            "1               0.0        0.0          0          0       0.0      0.0   \n",
            "2               0.0        0.0          0          0       0.0      0.0   \n",
            "3               0.0        0.0          0          0       0.0      0.0   \n",
            "4               0.0        0.0          0          0       0.0      0.0   \n",
            "...             ...        ...        ...        ...       ...      ...   \n",
            "2522357         0.0        0.0          0          0       0.0      0.0   \n",
            "2522358         0.0        0.0          0          0       0.0      0.0   \n",
            "2522359         0.0        0.0          0          0       0.0      0.0   \n",
            "2522360         0.0        0.0          0          0       0.0      0.0   \n",
            "2522361         0.0        0.0          0          0       0.0      0.0   \n",
            "\n",
            "         IdleMax  IdleMin   Label  LabelMap  \n",
            "0              0        0  BENIGN    BENIGN  \n",
            "1              0        0  BENIGN    BENIGN  \n",
            "2              0        0  BENIGN    BENIGN  \n",
            "3              0        0  BENIGN    BENIGN  \n",
            "4              0        0  BENIGN    BENIGN  \n",
            "...          ...      ...     ...       ...  \n",
            "2522357        0        0  BENIGN    BENIGN  \n",
            "2522358        0        0  BENIGN    BENIGN  \n",
            "2522359        0        0  BENIGN    BENIGN  \n",
            "2522360        0        0  BENIGN    BENIGN  \n",
            "2522361        0        0  BENIGN    BENIGN  \n",
            "\n",
            "[2522362 rows x 80 columns]\n"
          ]
        }
      ],
      "source": [
        "# STEP 3: Load CIC-IDS2017 Dataset (Binary)\n",
        "dataset = load_dataset(\"sonnh-tech1/cic-ids-2017\", \"binary\")\n",
        "df = dataset[\"train\"].to_pandas()\n",
        "\n",
        "print(df)"
      ]
    },
    {
      "cell_type": "code",
      "execution_count": null,
      "metadata": {
        "id": "WsKrnrFgBRvm"
      },
      "outputs": [],
      "source": [
        "# STEP 4: Preprocess Data\n",
        "le = LabelEncoder()\n",
        "df['Label'] = le.fit_transform(df['Label'])  # Benign=0, Threat=1\n",
        "\n",
        "X = df.drop(['Label', 'LabelMap'], axis=1)\n",
        "y = df['Label']\n",
        "\n",
        "X_numeric = X.select_dtypes(include=['int64', 'float64'])\n",
        "scaler = StandardScaler()\n",
        "X_scaled = scaler.fit_transform(X_numeric)"
      ]
    },
    {
      "cell_type": "code",
      "execution_count": null,
      "metadata": {
        "id": "C1IVIsHTBZiW"
      },
      "outputs": [],
      "source": [
        "# STEP 5: Train/Test Split\n",
        "X_train, X_test, y_train, y_test = train_test_split(X_scaled, y, test_size=0.3, random_state=42)"
      ]
    },
    {
      "cell_type": "code",
      "execution_count": null,
      "metadata": {
        "id": "j74xoXemBfan"
      },
      "outputs": [],
      "source": [
        "# STEP 6: Build the ANN Model\n",
        "model = Sequential()\n",
        "model.add(Dense(128, activation='relu', input_shape=(X_train.shape[1],)))\n",
        "model.add(Dropout(0.3))\n",
        "model.add(Dense(64, activation='relu'))\n",
        "model.add(Dropout(0.3))\n",
        "model.add(Dense(1, activation='sigmoid'))  # Binary classification\n",
        "\n",
        "model.compile(optimizer='adam', loss='binary_crossentropy', metrics=['accuracy'])"
      ]
    },
    {
      "cell_type": "code",
      "execution_count": null,
      "metadata": {
        "colab": {
          "background_save": true,
          "base_uri": "https://localhost:8080/"
        },
        "id": "ozKwnvjjBmjI",
        "outputId": "7d6c1f04-1efd-437f-827f-79c4420dbdc9"
      },
      "outputs": [
        {
          "name": "stdout",
          "output_type": "stream",
          "text": [
            "Epoch 1/10\n",
            "\u001b[1m5518/5518\u001b[0m \u001b[32m━━━━━━━━━━━━━━━━━━━━\u001b[0m\u001b[37m\u001b[0m \u001b[1m39s\u001b[0m 7ms/step - accuracy: 0.4513 - loss: -1365857.0000 - val_accuracy: 0.4763 - val_loss: -16814986.0000\n",
            "Epoch 2/10\n",
            "\u001b[1m5518/5518\u001b[0m \u001b[32m━━━━━━━━━━━━━━━━━━━━\u001b[0m\u001b[37m\u001b[0m \u001b[1m43s\u001b[0m 7ms/step - accuracy: 0.4553 - loss: -30624836.0000 - val_accuracy: 0.4737 - val_loss: -91523048.0000\n",
            "Epoch 3/10\n",
            "\u001b[1m5518/5518\u001b[0m \u001b[32m━━━━━━━━━━━━━━━━━━━━\u001b[0m\u001b[37m\u001b[0m \u001b[1m38s\u001b[0m 6ms/step - accuracy: 0.4548 - loss: -125041776.0000 - val_accuracy: 0.4761 - val_loss: -252823344.0000\n",
            "Epoch 4/10\n",
            "\u001b[1m5518/5518\u001b[0m \u001b[32m━━━━━━━━━━━━━━━━━━━━\u001b[0m\u001b[37m\u001b[0m \u001b[1m43s\u001b[0m 7ms/step - accuracy: 0.4549 - loss: -312226112.0000 - val_accuracy: 0.4768 - val_loss: -529051264.0000\n",
            "Epoch 5/10\n",
            "\u001b[1m5518/5518\u001b[0m \u001b[32m━━━━━━━━━━━━━━━━━━━━\u001b[0m\u001b[37m\u001b[0m \u001b[1m40s\u001b[0m 7ms/step - accuracy: 0.4552 - loss: -622039488.0000 - val_accuracy: 0.4767 - val_loss: -947056576.0000\n",
            "Epoch 6/10\n",
            "\u001b[1m5518/5518\u001b[0m \u001b[32m━━━━━━━━━━━━━━━━━━━━\u001b[0m\u001b[37m\u001b[0m \u001b[1m37s\u001b[0m 7ms/step - accuracy: 0.4558 - loss: -1074278912.0000 - val_accuracy: 0.4762 - val_loss: -1535334784.0000\n",
            "Epoch 7/10\n",
            "\u001b[1m5518/5518\u001b[0m \u001b[32m━━━━━━━━━━━━━━━━━━━━\u001b[0m\u001b[37m\u001b[0m \u001b[1m41s\u001b[0m 7ms/step - accuracy: 0.4565 - loss: -1706015104.0000 - val_accuracy: 0.4760 - val_loss: -2319587840.0000\n",
            "Epoch 8/10\n",
            "\u001b[1m5518/5518\u001b[0m \u001b[32m━━━━━━━━━━━━━━━━━━━━\u001b[0m\u001b[37m\u001b[0m \u001b[1m39s\u001b[0m 7ms/step - accuracy: 0.4556 - loss: -2548001792.0000 - val_accuracy: 0.4761 - val_loss: -3325419520.0000\n",
            "Epoch 9/10\n",
            "\u001b[1m5518/5518\u001b[0m \u001b[32m━━━━━━━━━━━━━━━━━━━━\u001b[0m\u001b[37m\u001b[0m \u001b[1m38s\u001b[0m 7ms/step - accuracy: 0.4567 - loss: -3610073856.0000 - val_accuracy: 0.4760 - val_loss: -4581970432.0000\n",
            "Epoch 10/10\n",
            "\u001b[1m5518/5518\u001b[0m \u001b[32m━━━━━━━━━━━━━━━━━━━━\u001b[0m\u001b[37m\u001b[0m \u001b[1m37s\u001b[0m 7ms/step - accuracy: 0.4559 - loss: -4934545920.0000 - val_accuracy: 0.4765 - val_loss: -6114531840.0000\n"
          ]
        }
      ],
      "source": [
        "# STEP 7: Train the Model\n",
        "early_stop = EarlyStopping(monitor='val_loss', patience=3, restore_best_weights=True)\n",
        "\n",
        "history = model.fit(X_train, y_train,\n",
        "                    validation_split=0.2,\n",
        "                    epochs=10,\n",
        "                    batch_size=256,\n",
        "                    callbacks=[early_stop],\n",
        "                    verbose=1)"
      ]
    },
    {
      "cell_type": "code",
      "execution_count": null,
      "metadata": {
        "id": "ZP5vZJ-3C9K1"
      },
      "outputs": [],
      "source": [
        "# STEP 8: Evaluate the Model\n",
        "y_pred_prob = model.predict(X_test)\n",
        "y_pred = (y_pred_prob > 0.5).astype(\"int32\").flatten()\n",
        "\n",
        "# Accuracy\n",
        "print(\"✅ Accuracy:\", accuracy_score(y_test, y_pred))\n",
        "\n",
        "# Classification Report\n",
        "print(\"\\n📄 Classification Report:\\n\", classification_report(y_test, y_pred))\n",
        "\n",
        "# Confusion Matrix\n",
        "conf_mat = confusion_matrix(y_test, y_pred)\n",
        "sns.heatmap(conf_mat, annot=True, fmt='d', cmap='coolwarm')\n",
        "plt.xlabel('Predicted')\n",
        "plt.ylabel('Actual')\n",
        "plt.title('Confusion Matrix - ANN')\n",
        "plt.show()"
      ]
    },
    {
      "cell_type": "code",
      "execution_count": null,
      "metadata": {
        "id": "zNGsjJYsqeQT"
      },
      "outputs": [],
      "source": [
        "# ✅ STEP 11: Plot Training History\n",
        "plt.figure(figsize=(12, 5))\n",
        "\n",
        "plt.subplot(1, 2, 1)\n",
        "plt.plot(history.history['accuracy'], label='Train Accuracy')\n",
        "plt.plot(history.history['val_accuracy'], label='Val Accuracy')\n",
        "plt.title('ANN Model Accuracy')\n",
        "plt.xlabel('Epoch')\n",
        "plt.ylabel('Accuracy')\n",
        "plt.legend()\n",
        "\n",
        "plt.subplot(1, 2, 2)\n",
        "plt.plot(history.history['loss'], label='Train Loss')\n",
        "plt.plot(history.history['val_loss'], label='Val Loss')\n",
        "plt.title('ANN Model Loss')\n",
        "plt.xlabel('Epoch')\n",
        "plt.ylabel('Loss')\n",
        "plt.legend()\n",
        "\n",
        "plt.tight_layout()\n",
        "plt.show()"
      ]
    },
    {
      "cell_type": "code",
      "execution_count": null,
      "metadata": {
        "colab": {
          "base_uri": "https://localhost:8080/"
        },
        "id": "dFvdVuFHwa47",
        "outputId": "553b607a-8b12-42b2-e0b0-ebc5e4eb7cd5"
      },
      "outputs": [
        {
          "name": "stdout",
          "output_type": "stream",
          "text": [
            "Error: The notebook file '/content/__main__' was not found.\n"
          ]
        }
      ],
      "source": [
        "import nbformat\n",
        "import os\n",
        "\n",
        "# Get the path of the current notebook\n",
        "notebook_path = os.path.abspath(\"__main__\")\n",
        "\n",
        "# Load and clean the notebook\n",
        "try:\n",
        "    with open(notebook_path, \"r\", encoding=\"utf-8\") as f:\n",
        "        nb = nbformat.read(f, as_version=4)\n",
        "\n",
        "    # Remove problematic metadata\n",
        "    for cell in nb.cells:\n",
        "        if 'metadata' in cell and 'widgets' in cell['metadata']:\n",
        "            del cell['metadata']['widgets']\n",
        "\n",
        "    # Save cleaned notebook (you might want to save it with a different name)\n",
        "    cleaned_notebook_path = \"ANN_cleaned.ipynb\"\n",
        "    with open(cleaned_notebook_path, \"w\", encoding=\"utf-8\") as f:\n",
        "        nbformat.write(nb, f)\n",
        "    print(f\"Cleaned notebook saved to {cleaned_notebook_path}\")\n",
        "\n",
        "except FileNotFoundError:\n",
        "    print(f\"Error: The notebook file '{notebook_path}' was not found.\")\n",
        "except Exception as e:\n",
        "    print(f\"An error occurred: {e}\")"
      ]
    }
  ],
  "metadata": {
    "colab": {
      "provenance": [],
      "include_colab_link": true
    },
    "kernelspec": {
      "display_name": "Python 3",
      "name": "python3"
    },
    "language_info": {
      "name": "python"
    }
  },
  "nbformat": 4,
  "nbformat_minor": 0
}